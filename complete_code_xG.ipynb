{
 "cells": [
  {
   "cell_type": "code",
   "execution_count": 53,
   "id": "fe4f359f",
   "metadata": {},
   "outputs": [],
   "source": [
    "import pandas as pd\n",
    "import numpy as np\n",
    "import seaborn as sns\n",
    "import matplotlib as plt\n",
    "import json\n",
    "with open('./events_England.json') as f:\n",
    "    data=json.load(f)\n",
    "english_df=pd.DataFrame(data)"
   ]
  },
  {
   "cell_type": "code",
   "execution_count": 54,
   "id": "fcd771b4",
   "metadata": {},
   "outputs": [],
   "source": [
    "eng_shot=english_df[english_df['eventId']==10]"
   ]
  },
  {
   "cell_type": "code",
   "execution_count": 55,
   "id": "4055ceb7",
   "metadata": {},
   "outputs": [],
   "source": [
    "with open('./events_France.json') as f:\n",
    "    data=json.load(f)\n",
    "french_df=pd.DataFrame(data)"
   ]
  },
  {
   "cell_type": "code",
   "execution_count": 56,
   "id": "584559c9",
   "metadata": {},
   "outputs": [],
   "source": [
    "french_shot=french_df[french_df['eventId']==10]"
   ]
  },
  {
   "cell_type": "code",
   "execution_count": 57,
   "id": "04431802",
   "metadata": {},
   "outputs": [],
   "source": [
    "with open('./events_Spain.json') as f:\n",
    "    data=json.load(f)\n",
    "spanish_df=pd.DataFrame(data)\n",
    "spanish_shot=spanish_df[spanish_df['eventId']==10]"
   ]
  },
  {
   "cell_type": "code",
   "execution_count": 58,
   "id": "8547ce04",
   "metadata": {},
   "outputs": [],
   "source": [
    "with open('./events_Italy.json') as f:\n",
    "    data=json.load(f)\n",
    "italian_df=pd.DataFrame(data)\n",
    "italian_shot=italian_df[italian_df['eventId']==10]"
   ]
  },
  {
   "cell_type": "code",
   "execution_count": 59,
   "id": "334891c8",
   "metadata": {},
   "outputs": [],
   "source": [
    "with open('./events_Germany.json') as f:\n",
    "    data=json.load(f)\n",
    "german_df=pd.DataFrame(data)\n",
    "german_shot=german_df[german_df['eventId']==10]"
   ]
  },
  {
   "cell_type": "code",
   "execution_count": 60,
   "id": "512fa21d",
   "metadata": {},
   "outputs": [],
   "source": [
    "combined=[eng_shot,french_shot,german_shot,italian_shot,spanish_shot]\n",
    "all_shots=pd.concat(combined)"
   ]
  },
  {
   "cell_type": "code",
   "execution_count": 61,
   "id": "afa8fc44",
   "metadata": {},
   "outputs": [],
   "source": [
    "ycorr=[]\n",
    "xcorr=[]\n",
    "angle=[]\n",
    "distance=[]\n",
    "convert=[]\n",
    "Shot_df=all_shots\n",
    "for i,Shot in Shot_df.iterrows():\n",
    "    #positions=Shot_df.loc[[i],[\"positions\"]]\n",
    "    #print(Shot_df[\"positions\"])\n",
    "    x=(100-Shot['positions'][0]['x'])*1.05\n",
    "    y=abs(Shot['positions'][0]['y']-50)*0.65\n",
    "    r=np.sqrt(x**2+y**2)\n",
    "    ycorr.append(y)\n",
    "    xcorr.append(x)\n",
    "    distance.append(round(r,1))\n",
    "    theta=np.arctan(7.32*x/(r**2-3.66**2))\n",
    "    #print(theta)\n",
    "    if theta<=0:\n",
    "        theta=np.pi+theta\n",
    "    angle.append(round(theta*180/np.pi))\n",
    "    flag=0\n",
    "    for tgs in Shot['tags']:\n",
    "        if(tgs['id']==101):\n",
    "            convert.append(1)\n",
    "            flag=1\n",
    "    if(flag==0):\n",
    "        convert.append(0)\n",
    "table=pd.DataFrame(list(zip(distance,angle,convert)),columns=['Distance(m)','Angle','Goal'])\n",
    "table\n",
    "table.to_csv('shots_taken.csv')"
   ]
  },
  {
   "cell_type": "code",
   "execution_count": 62,
   "id": "9e0f625b",
   "metadata": {},
   "outputs": [],
   "source": [
    "angle=list(table.Angle.unique())\n",
    "angle.sort()\n",
    "all_angles=pd.DataFrame(angle,columns=['angle'])\n",
    "all_angles['goals']=0\n",
    "all_angles['shots']=0"
   ]
  },
  {
   "cell_type": "code",
   "execution_count": 63,
   "id": "ae03dc4f",
   "metadata": {},
   "outputs": [],
   "source": [
    "for i in range(0,table.__len__()):\n",
    "    if(table.at[i,'Goal']==1):\n",
    "        all_angles.loc[all_angles['angle']==table.at[i,'Angle'],'goals']+=1\n",
    "    all_angles.loc[all_angles['angle']==table.at[i,'Angle'],'shots']+=1"
   ]
  },
  {
   "cell_type": "code",
   "execution_count": 64,
   "id": "418d297d",
   "metadata": {},
   "outputs": [
    {
     "name": "stderr",
     "output_type": "stream",
     "text": [
      "/tmp/ipykernel_186103/2660101626.py:3: FutureWarning: Setting an item of incompatible dtype is deprecated and will raise an error in a future version of pandas. Value '0.1' has dtype incompatible with int64, please explicitly cast to a compatible dtype first.\n",
      "  all_angles.loc[i,'prob']=all_angles.loc[i,'goals']/all_angles.loc[i,'shots']\n"
     ]
    },
    {
     "data": {
      "text/html": [
       "<div>\n",
       "<style scoped>\n",
       "    .dataframe tbody tr th:only-of-type {\n",
       "        vertical-align: middle;\n",
       "    }\n",
       "\n",
       "    .dataframe tbody tr th {\n",
       "        vertical-align: top;\n",
       "    }\n",
       "\n",
       "    .dataframe thead th {\n",
       "        text-align: right;\n",
       "    }\n",
       "</style>\n",
       "<table border=\"1\" class=\"dataframe\">\n",
       "  <thead>\n",
       "    <tr style=\"text-align: right;\">\n",
       "      <th></th>\n",
       "      <th>angle</th>\n",
       "      <th>goals</th>\n",
       "      <th>shots</th>\n",
       "      <th>prob</th>\n",
       "    </tr>\n",
       "  </thead>\n",
       "  <tbody>\n",
       "    <tr>\n",
       "      <th>0</th>\n",
       "      <td>3</td>\n",
       "      <td>1</td>\n",
       "      <td>10</td>\n",
       "      <td>0.100000</td>\n",
       "    </tr>\n",
       "    <tr>\n",
       "      <th>1</th>\n",
       "      <td>4</td>\n",
       "      <td>3</td>\n",
       "      <td>35</td>\n",
       "      <td>0.085714</td>\n",
       "    </tr>\n",
       "    <tr>\n",
       "      <th>2</th>\n",
       "      <td>5</td>\n",
       "      <td>1</td>\n",
       "      <td>26</td>\n",
       "      <td>0.038462</td>\n",
       "    </tr>\n",
       "    <tr>\n",
       "      <th>3</th>\n",
       "      <td>6</td>\n",
       "      <td>2</td>\n",
       "      <td>76</td>\n",
       "      <td>0.026316</td>\n",
       "    </tr>\n",
       "    <tr>\n",
       "      <th>4</th>\n",
       "      <td>7</td>\n",
       "      <td>5</td>\n",
       "      <td>131</td>\n",
       "      <td>0.038168</td>\n",
       "    </tr>\n",
       "    <tr>\n",
       "      <th>...</th>\n",
       "      <td>...</td>\n",
       "      <td>...</td>\n",
       "      <td>...</td>\n",
       "      <td>...</td>\n",
       "    </tr>\n",
       "    <tr>\n",
       "      <th>79</th>\n",
       "      <td>138</td>\n",
       "      <td>7</td>\n",
       "      <td>7</td>\n",
       "      <td>1.000000</td>\n",
       "    </tr>\n",
       "    <tr>\n",
       "      <th>80</th>\n",
       "      <td>144</td>\n",
       "      <td>7</td>\n",
       "      <td>9</td>\n",
       "      <td>0.777778</td>\n",
       "    </tr>\n",
       "    <tr>\n",
       "      <th>81</th>\n",
       "      <td>147</td>\n",
       "      <td>12</td>\n",
       "      <td>12</td>\n",
       "      <td>1.000000</td>\n",
       "    </tr>\n",
       "    <tr>\n",
       "      <th>82</th>\n",
       "      <td>148</td>\n",
       "      <td>2</td>\n",
       "      <td>2</td>\n",
       "      <td>1.000000</td>\n",
       "    </tr>\n",
       "    <tr>\n",
       "      <th>83</th>\n",
       "      <td>180</td>\n",
       "      <td>4</td>\n",
       "      <td>7</td>\n",
       "      <td>0.571429</td>\n",
       "    </tr>\n",
       "  </tbody>\n",
       "</table>\n",
       "<p>84 rows × 4 columns</p>\n",
       "</div>"
      ],
      "text/plain": [
       "    angle  goals  shots      prob\n",
       "0       3      1     10  0.100000\n",
       "1       4      3     35  0.085714\n",
       "2       5      1     26  0.038462\n",
       "3       6      2     76  0.026316\n",
       "4       7      5    131  0.038168\n",
       "..    ...    ...    ...       ...\n",
       "79    138      7      7  1.000000\n",
       "80    144      7      9  0.777778\n",
       "81    147     12     12  1.000000\n",
       "82    148      2      2  1.000000\n",
       "83    180      4      7  0.571429\n",
       "\n",
       "[84 rows x 4 columns]"
      ]
     },
     "execution_count": 64,
     "metadata": {},
     "output_type": "execute_result"
    }
   ],
   "source": [
    "all_angles['prob']=0\n",
    "for i in range(0,all_angles.__len__()):\n",
    "    all_angles.loc[i,'prob']=all_angles.loc[i,'goals']/all_angles.loc[i,'shots']\n",
    "all_angles"
   ]
  },
  {
   "cell_type": "code",
   "execution_count": 65,
   "id": "28cbd42d",
   "metadata": {},
   "outputs": [
    {
     "data": {
      "image/png": "[encoded data removed]",
      "text/plain": [
       "<Figure size 640x480 with 1 Axes>"
      ]
     },
     "metadata": {},
     "output_type": "display_data"
    }
   ],
   "source": [
    "import matplotlib.pyplot as plt\n",
    "plt.scatter(all_angles['angle'],all_angles['prob'])\n",
    "plt.ylim((-0.05,1.05))\n",
    "plt.xlim((-0.05,185))\n",
    "plt.xlabel\n",
    "plt.show()"
   ]
  },
  {
   "cell_type": "code",
   "execution_count": 66,
   "id": "951d9335",
   "metadata": {},
   "outputs": [
    {
     "data": {
      "image/png": "[encoded data removed]",
      "text/plain": [
       "<Figure size 640x480 with 1 Axes>"
      ]
     },
     "metadata": {},
     "output_type": "display_data"
    }
   ],
   "source": [
    "plt.scatter(all_angles['angle'],all_angles['goals'])\n",
    "plt.show()"
   ]
  },
  {
   "cell_type": "code",
   "execution_count": 67,
   "id": "f3d71654",
   "metadata": {},
   "outputs": [
    {
     "data": {
      "text/html": [
       "<div>\n",
       "<style scoped>\n",
       "    .dataframe tbody tr th:only-of-type {\n",
       "        vertical-align: middle;\n",
       "    }\n",
       "\n",
       "    .dataframe tbody tr th {\n",
       "        vertical-align: top;\n",
       "    }\n",
       "\n",
       "    .dataframe thead th {\n",
       "        text-align: right;\n",
       "    }\n",
       "</style>\n",
       "<table border=\"1\" class=\"dataframe\">\n",
       "  <thead>\n",
       "    <tr style=\"text-align: right;\">\n",
       "      <th></th>\n",
       "      <th>dist</th>\n",
       "      <th>goals</th>\n",
       "      <th>shots</th>\n",
       "    </tr>\n",
       "  </thead>\n",
       "  <tbody>\n",
       "    <tr>\n",
       "      <th>0</th>\n",
       "      <td>0.6</td>\n",
       "      <td>0</td>\n",
       "      <td>0</td>\n",
       "    </tr>\n",
       "    <tr>\n",
       "      <th>1</th>\n",
       "      <td>1.0</td>\n",
       "      <td>0</td>\n",
       "      <td>0</td>\n",
       "    </tr>\n",
       "    <tr>\n",
       "      <th>2</th>\n",
       "      <td>1.2</td>\n",
       "      <td>0</td>\n",
       "      <td>0</td>\n",
       "    </tr>\n",
       "    <tr>\n",
       "      <th>3</th>\n",
       "      <td>1.3</td>\n",
       "      <td>0</td>\n",
       "      <td>0</td>\n",
       "    </tr>\n",
       "    <tr>\n",
       "      <th>4</th>\n",
       "      <td>1.7</td>\n",
       "      <td>0</td>\n",
       "      <td>0</td>\n",
       "    </tr>\n",
       "    <tr>\n",
       "      <th>...</th>\n",
       "      <td>...</td>\n",
       "      <td>...</td>\n",
       "      <td>...</td>\n",
       "    </tr>\n",
       "    <tr>\n",
       "      <th>517</th>\n",
       "      <td>99.8</td>\n",
       "      <td>0</td>\n",
       "      <td>0</td>\n",
       "    </tr>\n",
       "    <tr>\n",
       "      <th>518</th>\n",
       "      <td>101.9</td>\n",
       "      <td>0</td>\n",
       "      <td>0</td>\n",
       "    </tr>\n",
       "    <tr>\n",
       "      <th>519</th>\n",
       "      <td>102.1</td>\n",
       "      <td>0</td>\n",
       "      <td>0</td>\n",
       "    </tr>\n",
       "    <tr>\n",
       "      <th>520</th>\n",
       "      <td>102.3</td>\n",
       "      <td>0</td>\n",
       "      <td>0</td>\n",
       "    </tr>\n",
       "    <tr>\n",
       "      <th>521</th>\n",
       "      <td>104.0</td>\n",
       "      <td>0</td>\n",
       "      <td>0</td>\n",
       "    </tr>\n",
       "  </tbody>\n",
       "</table>\n",
       "<p>522 rows × 3 columns</p>\n",
       "</div>"
      ],
      "text/plain": [
       "      dist  goals  shots\n",
       "0      0.6      0      0\n",
       "1      1.0      0      0\n",
       "2      1.2      0      0\n",
       "3      1.3      0      0\n",
       "4      1.7      0      0\n",
       "..     ...    ...    ...\n",
       "517   99.8      0      0\n",
       "518  101.9      0      0\n",
       "519  102.1      0      0\n",
       "520  102.3      0      0\n",
       "521  104.0      0      0\n",
       "\n",
       "[522 rows x 3 columns]"
      ]
     },
     "execution_count": 67,
     "metadata": {},
     "output_type": "execute_result"
    }
   ],
   "source": [
    "dist=list(table['Distance(m)'].unique())\n",
    "dist.sort()\n",
    "dist_df=pd.DataFrame(dist,columns=['dist'])\n",
    "dist_df['goals']=0\n",
    "dist_df['shots']=0\n",
    "dist_df"
   ]
  },
  {
   "cell_type": "code",
   "execution_count": 68,
   "id": "b1296e96",
   "metadata": {},
   "outputs": [
    {
     "data": {
      "text/html": [
       "<div>\n",
       "<style scoped>\n",
       "    .dataframe tbody tr th:only-of-type {\n",
       "        vertical-align: middle;\n",
       "    }\n",
       "\n",
       "    .dataframe tbody tr th {\n",
       "        vertical-align: top;\n",
       "    }\n",
       "\n",
       "    .dataframe thead th {\n",
       "        text-align: right;\n",
       "    }\n",
       "</style>\n",
       "<table border=\"1\" class=\"dataframe\">\n",
       "  <thead>\n",
       "    <tr style=\"text-align: right;\">\n",
       "      <th></th>\n",
       "      <th>dist</th>\n",
       "      <th>goals</th>\n",
       "      <th>shots</th>\n",
       "    </tr>\n",
       "  </thead>\n",
       "  <tbody>\n",
       "    <tr>\n",
       "      <th>0</th>\n",
       "      <td>0.6</td>\n",
       "      <td>1</td>\n",
       "      <td>1</td>\n",
       "    </tr>\n",
       "    <tr>\n",
       "      <th>1</th>\n",
       "      <td>1.0</td>\n",
       "      <td>2</td>\n",
       "      <td>2</td>\n",
       "    </tr>\n",
       "    <tr>\n",
       "      <th>2</th>\n",
       "      <td>1.2</td>\n",
       "      <td>12</td>\n",
       "      <td>12</td>\n",
       "    </tr>\n",
       "    <tr>\n",
       "      <th>3</th>\n",
       "      <td>1.3</td>\n",
       "      <td>1</td>\n",
       "      <td>1</td>\n",
       "    </tr>\n",
       "    <tr>\n",
       "      <th>4</th>\n",
       "      <td>1.7</td>\n",
       "      <td>7</td>\n",
       "      <td>9</td>\n",
       "    </tr>\n",
       "    <tr>\n",
       "      <th>...</th>\n",
       "      <td>...</td>\n",
       "      <td>...</td>\n",
       "      <td>...</td>\n",
       "    </tr>\n",
       "    <tr>\n",
       "      <th>517</th>\n",
       "      <td>99.8</td>\n",
       "      <td>0</td>\n",
       "      <td>2</td>\n",
       "    </tr>\n",
       "    <tr>\n",
       "      <th>518</th>\n",
       "      <td>101.9</td>\n",
       "      <td>1</td>\n",
       "      <td>2</td>\n",
       "    </tr>\n",
       "    <tr>\n",
       "      <th>519</th>\n",
       "      <td>102.1</td>\n",
       "      <td>0</td>\n",
       "      <td>1</td>\n",
       "    </tr>\n",
       "    <tr>\n",
       "      <th>520</th>\n",
       "      <td>102.3</td>\n",
       "      <td>0</td>\n",
       "      <td>1</td>\n",
       "    </tr>\n",
       "    <tr>\n",
       "      <th>521</th>\n",
       "      <td>104.0</td>\n",
       "      <td>1</td>\n",
       "      <td>1</td>\n",
       "    </tr>\n",
       "  </tbody>\n",
       "</table>\n",
       "<p>522 rows × 3 columns</p>\n",
       "</div>"
      ],
      "text/plain": [
       "      dist  goals  shots\n",
       "0      0.6      1      1\n",
       "1      1.0      2      2\n",
       "2      1.2     12     12\n",
       "3      1.3      1      1\n",
       "4      1.7      7      9\n",
       "..     ...    ...    ...\n",
       "517   99.8      0      2\n",
       "518  101.9      1      2\n",
       "519  102.1      0      1\n",
       "520  102.3      0      1\n",
       "521  104.0      1      1\n",
       "\n",
       "[522 rows x 3 columns]"
      ]
     },
     "execution_count": 68,
     "metadata": {},
     "output_type": "execute_result"
    }
   ],
   "source": [
    "for i in range(0,table.__len__()):\n",
    "    if(table.at[i,'Goal']==1):\n",
    "        dist_df.loc[dist_df['dist']==table.at[i,'Distance(m)'],'goals']+=1\n",
    "    dist_df.loc[dist_df['dist']==table.at[i,'Distance(m)'],'shots']+=1\n",
    "dist_df"
   ]
  },
  {
   "cell_type": "code",
   "execution_count": 69,
   "id": "0fa58358",
   "metadata": {},
   "outputs": [
    {
     "data": {
      "text/html": [
       "<div>\n",
       "<style scoped>\n",
       "    .dataframe tbody tr th:only-of-type {\n",
       "        vertical-align: middle;\n",
       "    }\n",
       "\n",
       "    .dataframe tbody tr th {\n",
       "        vertical-align: top;\n",
       "    }\n",
       "\n",
       "    .dataframe thead th {\n",
       "        text-align: right;\n",
       "    }\n",
       "</style>\n",
       "<table border=\"1\" class=\"dataframe\">\n",
       "  <thead>\n",
       "    <tr style=\"text-align: right;\">\n",
       "      <th></th>\n",
       "      <th>dist</th>\n",
       "      <th>goals</th>\n",
       "      <th>shots</th>\n",
       "      <th>prob</th>\n",
       "    </tr>\n",
       "  </thead>\n",
       "  <tbody>\n",
       "    <tr>\n",
       "      <th>0</th>\n",
       "      <td>0.6</td>\n",
       "      <td>1</td>\n",
       "      <td>1</td>\n",
       "      <td>1.000000</td>\n",
       "    </tr>\n",
       "    <tr>\n",
       "      <th>1</th>\n",
       "      <td>1.0</td>\n",
       "      <td>2</td>\n",
       "      <td>2</td>\n",
       "      <td>1.000000</td>\n",
       "    </tr>\n",
       "    <tr>\n",
       "      <th>2</th>\n",
       "      <td>1.2</td>\n",
       "      <td>12</td>\n",
       "      <td>12</td>\n",
       "      <td>1.000000</td>\n",
       "    </tr>\n",
       "    <tr>\n",
       "      <th>3</th>\n",
       "      <td>1.3</td>\n",
       "      <td>1</td>\n",
       "      <td>1</td>\n",
       "      <td>1.000000</td>\n",
       "    </tr>\n",
       "    <tr>\n",
       "      <th>4</th>\n",
       "      <td>1.7</td>\n",
       "      <td>7</td>\n",
       "      <td>9</td>\n",
       "      <td>0.777778</td>\n",
       "    </tr>\n",
       "    <tr>\n",
       "      <th>...</th>\n",
       "      <td>...</td>\n",
       "      <td>...</td>\n",
       "      <td>...</td>\n",
       "      <td>...</td>\n",
       "    </tr>\n",
       "    <tr>\n",
       "      <th>517</th>\n",
       "      <td>99.8</td>\n",
       "      <td>0</td>\n",
       "      <td>2</td>\n",
       "      <td>0.000000</td>\n",
       "    </tr>\n",
       "    <tr>\n",
       "      <th>518</th>\n",
       "      <td>101.9</td>\n",
       "      <td>1</td>\n",
       "      <td>2</td>\n",
       "      <td>0.500000</td>\n",
       "    </tr>\n",
       "    <tr>\n",
       "      <th>519</th>\n",
       "      <td>102.1</td>\n",
       "      <td>0</td>\n",
       "      <td>1</td>\n",
       "      <td>0.000000</td>\n",
       "    </tr>\n",
       "    <tr>\n",
       "      <th>520</th>\n",
       "      <td>102.3</td>\n",
       "      <td>0</td>\n",
       "      <td>1</td>\n",
       "      <td>0.000000</td>\n",
       "    </tr>\n",
       "    <tr>\n",
       "      <th>521</th>\n",
       "      <td>104.0</td>\n",
       "      <td>1</td>\n",
       "      <td>1</td>\n",
       "      <td>1.000000</td>\n",
       "    </tr>\n",
       "  </tbody>\n",
       "</table>\n",
       "<p>522 rows × 4 columns</p>\n",
       "</div>"
      ],
      "text/plain": [
       "      dist  goals  shots      prob\n",
       "0      0.6      1      1  1.000000\n",
       "1      1.0      2      2  1.000000\n",
       "2      1.2     12     12  1.000000\n",
       "3      1.3      1      1  1.000000\n",
       "4      1.7      7      9  0.777778\n",
       "..     ...    ...    ...       ...\n",
       "517   99.8      0      2  0.000000\n",
       "518  101.9      1      2  0.500000\n",
       "519  102.1      0      1  0.000000\n",
       "520  102.3      0      1  0.000000\n",
       "521  104.0      1      1  1.000000\n",
       "\n",
       "[522 rows x 4 columns]"
      ]
     },
     "execution_count": 69,
     "metadata": {},
     "output_type": "execute_result"
    }
   ],
   "source": [
    "dist_df['prob']=float(0)\n",
    "for i in range(0,len(dist_df)):\n",
    "    dist_df.at[i,'prob']=float(dist_df.at[i,'goals'])/dist_df.at[i,'shots']\n",
    "dist_df"
   ]
  },
  {
   "cell_type": "code",
   "execution_count": 70,
   "id": "8e5f26a2",
   "metadata": {},
   "outputs": [
    {
     "data": {
      "text/plain": [
       "<Figure size 10x8 with 0 Axes>"
      ]
     },
     "execution_count": 70,
     "metadata": {},
     "output_type": "execute_result"
    },
    {
     "data": {
      "image/png": "[encoded data removed]",
      "text/plain": [
       "<Figure size 640x480 with 1 Axes>"
      ]
     },
     "metadata": {},
     "output_type": "display_data"
    },
    {
     "data": {
      "text/plain": [
       "<Figure size 10x8 with 0 Axes>"
      ]
     },
     "metadata": {},
     "output_type": "display_data"
    }
   ],
   "source": [
    "from matplotlib.pyplot import figure\n",
    "plt.scatter(dist_df['dist'],dist_df['goals'])\n",
    "figure(figsize=(10, 8), dpi=1)\n"
   ]
  },
  {
   "cell_type": "code",
   "execution_count": 71,
   "id": "340d8a5d",
   "metadata": {},
   "outputs": [
    {
     "data": {
      "text/html": [
       "<table class=\"simpletable\">\n",
       "<caption>Generalized Linear Model Regression Results</caption>\n",
       "<tr>\n",
       "  <th>Dep. Variable:</th>         <td>Goal</td>       <th>  No. Observations:  </th>  <td> 40461</td> \n",
       "</tr>\n",
       "<tr>\n",
       "  <th>Model:</th>                  <td>GLM</td>       <th>  Df Residuals:      </th>  <td> 40459</td> \n",
       "</tr>\n",
       "<tr>\n",
       "  <th>Model Family:</th>        <td>Binomial</td>     <th>  Df Model:          </th>  <td>     1</td> \n",
       "</tr>\n",
       "<tr>\n",
       "  <th>Link Function:</th>         <td>Logit</td>      <th>  Scale:             </th> <td>  1.0000</td>\n",
       "</tr>\n",
       "<tr>\n",
       "  <th>Method:</th>                <td>IRLS</td>       <th>  Log-Likelihood:    </th> <td> -12010.</td>\n",
       "</tr>\n",
       "<tr>\n",
       "  <th>Date:</th>            <td>Fri, 30 Aug 2024</td> <th>  Deviance:          </th> <td>  24020.</td>\n",
       "</tr>\n",
       "<tr>\n",
       "  <th>Time:</th>                <td>02:36:53</td>     <th>  Pearson chi2:      </th> <td>3.90e+04</td>\n",
       "</tr>\n",
       "<tr>\n",
       "  <th>No. Iterations:</th>          <td>6</td>        <th>  Pseudo R-squ. (CS):</th>  <td>0.07744</td>\n",
       "</tr>\n",
       "<tr>\n",
       "  <th>Covariance Type:</th>     <td>nonrobust</td>    <th>                     </th>     <td> </td>   \n",
       "</tr>\n",
       "</table>\n",
       "<table class=\"simpletable\">\n",
       "<tr>\n",
       "      <td></td>         <th>coef</th>     <th>std err</th>      <th>z</th>      <th>P>|z|</th>  <th>[0.025</th>    <th>0.975]</th>  \n",
       "</tr>\n",
       "<tr>\n",
       "  <th>Intercept</th> <td>   -3.6205</td> <td>    0.035</td> <td> -102.884</td> <td> 0.000</td> <td>   -3.689</td> <td>   -3.552</td>\n",
       "</tr>\n",
       "<tr>\n",
       "  <th>Angle</th>     <td>    0.0521</td> <td>    0.001</td> <td>   53.530</td> <td> 0.000</td> <td>    0.050</td> <td>    0.054</td>\n",
       "</tr>\n",
       "</table>"
      ],
      "text/latex": [
       "\\begin{center}\n",
       "\\begin{tabular}{lclc}\n",
       "\\toprule\n",
       "\\textbf{Dep. Variable:}   &       Goal       & \\textbf{  No. Observations:  } &    40461    \\\\\n",
       "\\textbf{Model:}           &       GLM        & \\textbf{  Df Residuals:      } &    40459    \\\\\n",
       "\\textbf{Model Family:}    &     Binomial     & \\textbf{  Df Model:          } &        1    \\\\\n",
       "\\textbf{Link Function:}   &      Logit       & \\textbf{  Scale:             } &    1.0000   \\\\\n",
       "\\textbf{Method:}          &       IRLS       & \\textbf{  Log-Likelihood:    } &   -12010.   \\\\\n",
       "\\textbf{Date:}            & Fri, 30 Aug 2024 & \\textbf{  Deviance:          } &    24020.   \\\\\n",
       "\\textbf{Time:}            &     02:36:53     & \\textbf{  Pearson chi2:      } &  3.90e+04   \\\\\n",
       "\\textbf{No. Iterations:}  &        6         & \\textbf{  Pseudo R-squ. (CS):} &  0.07744    \\\\\n",
       "\\textbf{Covariance Type:} &    nonrobust     & \\textbf{                     } &             \\\\\n",
       "\\bottomrule\n",
       "\\end{tabular}\n",
       "\\begin{tabular}{lcccccc}\n",
       "                   & \\textbf{coef} & \\textbf{std err} & \\textbf{z} & \\textbf{P$> |$z$|$} & \\textbf{[0.025} & \\textbf{0.975]}  \\\\\n",
       "\\midrule\n",
       "\\textbf{Intercept} &      -3.6205  &        0.035     &  -102.884  &         0.000        &       -3.689    &       -3.552     \\\\\n",
       "\\textbf{Angle}     &       0.0521  &        0.001     &    53.530  &         0.000        &        0.050    &        0.054     \\\\\n",
       "\\bottomrule\n",
       "\\end{tabular}\n",
       "%\\caption{Generalized Linear Model Regression Results}\n",
       "\\end{center}"
      ],
      "text/plain": [
       "<class 'statsmodels.iolib.summary.Summary'>\n",
       "\"\"\"\n",
       "                 Generalized Linear Model Regression Results                  \n",
       "==============================================================================\n",
       "Dep. Variable:                   Goal   No. Observations:                40461\n",
       "Model:                            GLM   Df Residuals:                    40459\n",
       "Model Family:                Binomial   Df Model:                            1\n",
       "Link Function:                  Logit   Scale:                          1.0000\n",
       "Method:                          IRLS   Log-Likelihood:                -12010.\n",
       "Date:                Fri, 30 Aug 2024   Deviance:                       24020.\n",
       "Time:                        02:36:53   Pearson chi2:                 3.90e+04\n",
       "No. Iterations:                     6   Pseudo R-squ. (CS):            0.07744\n",
       "Covariance Type:            nonrobust                                         \n",
       "==============================================================================\n",
       "                 coef    std err          z      P>|z|      [0.025      0.975]\n",
       "------------------------------------------------------------------------------\n",
       "Intercept     -3.6205      0.035   -102.884      0.000      -3.689      -3.552\n",
       "Angle          0.0521      0.001     53.530      0.000       0.050       0.054\n",
       "==============================================================================\n",
       "\"\"\""
      ]
     },
     "execution_count": 71,
     "metadata": {},
     "output_type": "execute_result"
    }
   ],
   "source": [
    "import statsmodels.api as sm\n",
    "import statsmodels.formula.api as smf\n",
    "fitangle=smf.glm(formula=\"Goal ~ Angle\" , data=table, \n",
    "                           family=sm.families.Binomial()).fit()\n",
    "fitangle.summary()"
   ]
  },
  {
   "cell_type": "code",
   "execution_count": 72,
   "id": "58bb91ed",
   "metadata": {},
   "outputs": [
    {
     "name": "stderr",
     "output_type": "stream",
     "text": [
      "/tmp/ipykernel_186103/4018427561.py:3: FutureWarning: Series.__getitem__ treating keys as positions is deprecated. In a future version, integer keys will always be treated as labels (consistent with DataFrame behavior). To access a value by position, use `ser.iloc[pos]`\n",
      "  xG=1/(1+np.exp(-b[0]-b[1]*tempx))\n"
     ]
    }
   ],
   "source": [
    "b=fitangle.params\n",
    "tempx=np.arange(175,step=0.01)\n",
    "xG=1/(1+np.exp(-b[0]-b[1]*tempx))"
   ]
  },
  {
   "cell_type": "code",
   "execution_count": 73,
   "id": "0ec303c7",
   "metadata": {},
   "outputs": [
    {
     "data": {
      "text/plain": [
       "[<matplotlib.lines.Line2D at 0x81b3a2f7be0>]"
      ]
     },
     "execution_count": 73,
     "metadata": {},
     "output_type": "execute_result"
    },
    {
     "data": {
      "image/png": "[encoded data removed]",
      "text/plain": [
       "<Figure size 640x480 with 1 Axes>"
      ]
     },
     "metadata": {},
     "output_type": "display_data"
    }
   ],
   "source": [
    "plt.scatter(table['Angle'],table['Goal'])\n",
    "plt.plot(tempx,xG,color='orange')"
   ]
  },
  {
   "cell_type": "code",
   "execution_count": 74,
   "id": "15372acd",
   "metadata": {},
   "outputs": [
    {
     "data": {
      "text/plain": [
       "[<matplotlib.lines.Line2D at 0x81b3a2d3e80>]"
      ]
     },
     "execution_count": 74,
     "metadata": {},
     "output_type": "execute_result"
    },
    {
     "data": {
      "image/png": "[encoded data removed]",
      "text/plain": [
       "<Figure size 640x480 with 1 Axes>"
      ]
     },
     "metadata": {},
     "output_type": "display_data"
    }
   ],
   "source": [
    "plt.scatter(all_angles['angle'],all_angles['prob'])\n",
    "plt.plot(tempx,xG,color='orange')"
   ]
  },
  {
   "cell_type": "code",
   "execution_count": 75,
   "id": "3a0ddb34",
   "metadata": {},
   "outputs": [],
   "source": [
    "def dis(w):\n",
    "    n=len(table)\n",
    "    Hsum=0\n",
    "    for i in range(n):\n",
    "        x=table.at[i,'Distance(m)']\n",
    "        if(table.at[i,'Goal']==1):\n",
    "            Hsum+=np.log(1+np.exp(-w[0]-w[1]*x))\n",
    "        else:\n",
    "            Hsum+=np.log(1+np.exp(w[0]+w[1]*x))\n",
    "    return Hsum"
   ]
  },
  {
   "cell_type": "code",
   "execution_count": 76,
   "id": "d17cb370",
   "metadata": {},
   "outputs": [
    {
     "name": "stdout",
     "output_type": "stream",
     "text": [
      "Optimization terminated successfully.\n",
      "         Current function value: 11946.604023\n",
      "         Iterations: 56\n",
      "         Function evaluations: 105\n"
     ]
    }
   ],
   "source": [
    "from scipy.optimize import fmin\n",
    "distcoeff=fmin(dis,(0,0))"
   ]
  },
  {
   "cell_type": "code",
   "execution_count": 77,
   "id": "97620041",
   "metadata": {},
   "outputs": [
    {
     "data": {
      "text/plain": [
       "array([ 0.10431016, -0.1480186 ])"
      ]
     },
     "execution_count": 77,
     "metadata": {},
     "output_type": "execute_result"
    }
   ],
   "source": [
    "distcoeff"
   ]
  },
  {
   "cell_type": "code",
   "execution_count": 78,
   "id": "1f470035",
   "metadata": {},
   "outputs": [
    {
     "data": {
      "text/plain": [
       "<matplotlib.collections.PathCollection at 0x81b8e321060>"
      ]
     },
     "execution_count": 78,
     "metadata": {},
     "output_type": "execute_result"
    },
    {
     "data": {
      "image/png": "[encoded data removed]",
      "text/plain": [
       "<Figure size 640x480 with 1 Axes>"
      ]
     },
     "metadata": {},
     "output_type": "display_data"
    }
   ],
   "source": [
    "pdist=lambda r:1/(1+np.exp(-distcoeff[0]-distcoeff[1]*r))\n",
    "r=np.arange(100,step=0.1)\n",
    "plt.plot(r,pdist(r),color='orange')\n",
    "plt.scatter(dist_df['dist'],dist_df['prob'])"
   ]
  },
  {
   "cell_type": "code",
   "execution_count": 79,
   "id": "c7fb27c9",
   "metadata": {},
   "outputs": [
    {
     "name": "stdout",
     "output_type": "stream",
     "text": [
      "                 Generalized Linear Model Regression Results                  \n",
      "==============================================================================\n",
      "Dep. Variable:                   Goal   No. Observations:                40461\n",
      "Model:                            GLM   Df Residuals:                    40458\n",
      "Model Family:                Binomial   Df Model:                            2\n",
      "Link Function:                  Logit   Scale:                          1.0000\n",
      "Method:                          IRLS   Log-Likelihood:                -11788.\n",
      "Date:                Fri, 30 Aug 2024   Deviance:                       23575.\n",
      "Time:                        02:37:22   Pearson chi2:                 1.23e+05\n",
      "No. Iterations:                     7   Pseudo R-squ. (CS):            0.08752\n",
      "Covariance Type:            nonrobust                                         \n",
      "==============================================================================\n",
      "                 coef    std err          z      P>|z|      [0.025      0.975]\n",
      "------------------------------------------------------------------------------\n",
      "Intercept     -1.5461      0.103    -15.064      0.000      -1.747      -1.345\n",
      "Angle          0.0255      0.001     17.084      0.000       0.023       0.028\n",
      "dist          -0.0866      0.004    -19.919      0.000      -0.095      -0.078\n",
      "==============================================================================\n"
     ]
    }
   ],
   "source": [
    "table['dist']=table['Distance(m)']\n",
    "combined_model=smf.glm(formula='Goal ~ Angle + dist',data=table,family=sm.families.Binomial()).fit()\n",
    "print(combined_model.summary())"
   ]
  },
  {
   "cell_type": "code",
   "execution_count": 80,
   "id": "e2d07285",
   "metadata": {},
   "outputs": [],
   "source": [
    "combined_b=combined_model.params"
   ]
  },
  {
   "cell_type": "code",
   "execution_count": 81,
   "id": "59367585",
   "metadata": {},
   "outputs": [],
   "source": [
    "def xG_calculate(Angle,dist):\n",
    "    expsum=combined_b[0]+combined_b[1]*Angle+combined_b[2]*dist\n",
    "    xG=1/(1+np.exp(-expsum))\n",
    "    return xG"
   ]
  },
  {
   "cell_type": "code",
   "execution_count": 82,
   "id": "e110be85",
   "metadata": {},
   "outputs": [
    {
     "name": "stderr",
     "output_type": "stream",
     "text": [
      "/tmp/ipykernel_186103/1452845371.py:2: FutureWarning: Series.__getitem__ treating keys as positions is deprecated. In a future version, integer keys will always be treated as labels (consistent with DataFrame behavior). To access a value by position, use `ser.iloc[pos]`\n",
      "  expsum=combined_b[0]+combined_b[1]*Angle+combined_b[2]*dist\n"
     ]
    },
    {
     "data": {
      "text/plain": [
       "np.float64(0.2983271718392124)"
      ]
     },
     "execution_count": 82,
     "metadata": {},
     "output_type": "execute_result"
    }
   ],
   "source": [
    "xG_calculate(78,15)"
   ]
  },
  {
   "cell_type": "code",
   "execution_count": 83,
   "id": "b5823125",
   "metadata": {},
   "outputs": [],
   "source": [
    "def halfpitch():\n",
    "    import matplotlib.pyplot as plt\n",
    "    from matplotlib.patches import Arc\n",
    "    fig=plt.figure()\n",
    "    ax=fig.add_subplot(1,1,1)\n",
    "    pitchcolor='black'\n",
    "    #outline\n",
    "    plt.plot([0,65],[0,0],color=pitchcolor)\n",
    "    plt.plot([65,65],[0,52.5],color=pitchcolor)\n",
    "    plt.plot([65,0],[52.5,52.5],color=pitchcolor)\n",
    "    plt.plot([0,0],[52.5,0],color=pitchcolor)\n",
    "    \n",
    "    #goal\n",
    "    plt.plot([65/2-3.66,65/2-3.66],[0,-3],color=pitchcolor)\n",
    "    plt.plot([65/2+3.66,65/2+3.66],[0,-3],color=pitchcolor)\n",
    "    plt.plot([65/2-3.66,65/2+3.66],[-3,-3],color=pitchcolor)\n",
    "    \n",
    "    #penarea\n",
    "    plt.plot([65/2-16.5-3.66,65/2-16.5-3.66],[0,16.5],color=pitchcolor)\n",
    "    plt.plot([65/2+16.5+3.66,65/2+16.5+3.66],[0,16.5],color=pitchcolor)\n",
    "    plt.plot([65/2-16.5-3.66,65/2+16.5+3.66],[16.5,16.5],color=pitchcolor)\n",
    "    \n",
    "    #6 yard box\n",
    "    plt.plot([65/2-5.5-3.66,65/2-5.5-3.66],[0,5.5],color=pitchcolor)\n",
    "    plt.plot([65/2+5.5+3.66,65/2+5.5+3.66],[0,5.5],color=pitchcolor)\n",
    "    plt.plot([65/2-5.5-3.66,65/2+5.5+3.66],[5.5,5.5],color=pitchcolor)\n",
    "    \n",
    "    #pen spot\n",
    "    penspot=plt.Circle((65/2,11),0.8,color=pitchcolor)\n",
    "    ax.add_patch(penspot)\n",
    "    \n",
    "    penarc=Arc((65/2,11),height=18.3,width=18.3,angle=0,theta1=90-53,theta2=90+53,color=pitchcolor)\n",
    "    ax.add_patch(penarc)\n",
    "    \n",
    "    #midarc\n",
    "    midarc=Arc((65/2,52.5),height=18.3,width=18.3,angle=0,theta1=180,theta2=360,color=pitchcolor)\n",
    "    ax.add_patch(midarc)\n",
    "    \n",
    "    plt.axis('off')\n",
    "    return fig,ax"
   ]
  },
  {
   "cell_type": "code",
   "execution_count": 84,
   "id": "d23b0212",
   "metadata": {},
   "outputs": [
    {
     "name": "stderr",
     "output_type": "stream",
     "text": [
      "/tmp/ipykernel_186103/1452845371.py:2: FutureWarning: Series.__getitem__ treating keys as positions is deprecated. In a future version, integer keys will always be treated as labels (consistent with DataFrame behavior). To access a value by position, use `ser.iloc[pos]`\n",
      "  expsum=combined_b[0]+combined_b[1]*Angle+combined_b[2]*dist\n"
     ]
    },
    {
     "data": {
      "image/png": "[encoded data removed]",
      "text/plain": [
       "<Figure size 640x480 with 2 Axes>"
      ]
     },
     "metadata": {},
     "output_type": "display_data"
    }
   ],
   "source": [
    "prob_2d=np.zeros((65,65))\n",
    "for x in range(65):\n",
    "    for y in range(65):\n",
    "        theta=np.arctan(7.32*x/(x**2+abs(y-65/2)**2-3.66**2))\n",
    "        if(theta<0):\n",
    "            theta+=np.pi\n",
    "        prob_2d[x,y]=xG_calculate(theta*180/np.pi,np.sqrt(x**2+abs(y-65/2)**2))\n",
    "(fig,ax)=halfpitch()\n",
    "image=ax.imshow(prob_2d,interpolation='nearest',extent=[-1,65,65,-1],aspect='auto',cmap=plt.cm.Reds,vmin=0,vmax=0.3)\n",
    "fig.colorbar(image,ax=ax)\n",
    "ax.set_title('Probability of scoring goal')\n",
    "plt.xlim((0,66))\n",
    "plt.ylim((-4,35))\n",
    "plt.gca().set_aspect('equal',adjustable='box')\n",
    "plt.show()\n",
    "fig.savefig('xGmodel.pdf',dpi=None,bbox_inches='tight')"
   ]
  },
  {
   "cell_type": "code",
   "execution_count": null,
   "id": "466e38df-0e6e-443f-b283-4f4b1f54bcc4",
   "metadata": {},
   "outputs": [],
   "source": []
  }
 ],
 "metadata": {
  "kernelspec": {
   "display_name": "Python 3 (ipykernel)",
   "language": "python",
   "name": "python3"
  },
  "language_info": {
   "codemirror_mode": {
    "name": "ipython",
    "version": 3
   },
   "file_extension": ".py",
   "mimetype": "text/x-python",
   "name": "python",
   "nbconvert_exporter": "python",
   "pygments_lexer": "ipython3",
   "version": "3.10.12"
  }
 },
 "nbformat": 4,
 "nbformat_minor": 5
}
